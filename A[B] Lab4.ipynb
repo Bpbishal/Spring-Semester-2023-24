{
 "cells": [
  {
   "cell_type": "markdown",
   "id": "ff6f2bc1",
   "metadata": {},
   "source": [
    "# Lab Work\n",
    "\n",
    "1. Shift Left k Cells\n",
    "\n",
    "Consider an array named source. Write a method/function named shiftLeft( source, k) that shifts all the elements of the source array to the left by 'k' positions. You must execute the method by passing an array and number of cells to be shifted. After calling the method, print the array to show whether the elements have been shifted properly.\n",
    "\n",
    "Example:\n",
    "\n",
    "source=[10,20,30,40,50,60]\n",
    "\n",
    "shiftLeft(source,3)\n",
    "\n",
    "After calling shiftLeft(source,3), printing the array should give the output as:\n",
    "\n",
    "[ 40, 50, 60, 0, 0, 0 ]\n",
    "\n",
    "2. Rotate Left k cells\n",
    "\n",
    "Consider an array named source. Write a method/function named rotateLeft( source, k)\n",
    "that rotates all the elements of the source array to the left by 'k' positions. You must\n",
    "execute the method by passing an array and number of cells to be shifted. After calling\n",
    "the method, print the array to show whether the elements have been shifted properly.\n",
    "\n",
    "Example:\n",
    "\n",
    "source=[10,20,30,40,50,60]\n",
    "\n",
    "rotateLeft(source,3)\n",
    "\n",
    "After calling rotateLeft(source,3), printing the array should give the output as:\n",
    "\n",
    "[ 40, 50, 60, 10, 20, 30]\n",
    "\n",
    "3. Remove an element from an array\n",
    "\n",
    "Consider an array named source. Write a method/function named remove( source,\n",
    "size, idx) that removes the element in index idx of the source array. You must execute\n",
    "the method by passing an array, its size and the idx( that is the index of the element to\n",
    "be removed). After calling the method, print the array to show whether the element of\n",
    "that particular index has been removed properly.\n",
    "\n",
    "Example:\n",
    "\n",
    "source=[10,20,30,40,50,0,0]\n",
    "\n",
    "remove(source,5,2)\n",
    "\n",
    "After calling remove(source,5,2) , printing the array should give the output as:\n",
    "\n",
    "[ 10,20,40,50,0,0,0]\n",
    "\n",
    "4. Remove all occurrences of a particular element from an array\n",
    "\n",
    "Consider an array named source. Write a method/function named removeAll( source,\n",
    "size, element) that removes all the occurrences of the given element in the source\n",
    "array. You must execute the method by passing an array, its size and the element to be\n",
    "removed. After calling the method, print the array to show whether all the occurrences\n",
    "of the element have been removed properly.\n",
    "\n",
    "Example:\n",
    "\n",
    "source=[10,2,30,2,50,2,2,0,0]\n",
    "\n",
    "removeAll(source,7,2)\n",
    "\n",
    "After calling removeAll(source,7,2), all the occurrences of 2 must be removed. Printing\n",
    "the array afterwards should give the output as:\n",
    "\n",
    "[ 10,30,50,0,0,0,0,0,0]\n",
    "\n",
    "\n"
   ]
  },
  {
   "cell_type": "markdown",
   "id": "ab16f475",
   "metadata": {},
   "source": []
  },
  {
   "cell_type": "code",
   "execution_count": 32,
   "id": "ee1be46a",
   "metadata": {},
   "outputs": [
    {
     "name": "stdout",
     "output_type": "stream",
     "text": [
      "[30, 40, 50, 0, 0]\n"
     ]
    }
   ],
   "source": [
    "def shiftLeft(List,k):\n",
    "    for j in range(k):\n",
    "        for i in range (len(L1)-1):\n",
    "            List[i]=List[i+1]\n",
    "    for i in range(k+1,len(List)):\n",
    "        List[i]=0\n",
    "    return List\n",
    "L1=[10,20,30,40,50]\n",
    "L2=shiftLeft(L1,2)\n",
    "print(L2)"
   ]
  },
  {
   "cell_type": "code",
   "execution_count": 33,
   "id": "0684309c",
   "metadata": {},
   "outputs": [
    {
     "name": "stdout",
     "output_type": "stream",
     "text": [
      "[0, 0, 10, 20, 30]\n"
     ]
    }
   ],
   "source": [
    "def shiftRight(List, k):\n",
    "    for j in range(k):\n",
    "        for i in range(len(List) - 1, 0, -1):\n",
    "            List[i] = List[i - 1]\n",
    "    for i in range(k):\n",
    "        List[i] = 0\n",
    "    return List\n",
    "\n",
    "L1 = [10, 20, 30, 40, 50]\n",
    "L2 = shiftRight(L1, 2)\n",
    "print(L2)\n"
   ]
  },
  {
   "cell_type": "code",
   "execution_count": 30,
   "metadata": {},
   "outputs": [
    {
     "name": "stdout",
     "output_type": "stream",
     "text": [
      "[30, 40, 50, 10, 20]\n"
     ]
    }
   ],
   "source": [
    "def rotateLeft(List,k):\n",
    "    for j in range(k):\n",
    "        a=List[0]\n",
    "        for i in range(len(List)-1):\n",
    "            List[i]=List[i+1]\n",
    "        List[-1]=a\n",
    "    return List\n",
    "L1=[10,20,30,40,50]\n",
    "L2= rotateLeft(L1,2)\n",
    "print(L2)"
   ]
  },
  {
   "cell_type": "code",
   "execution_count": 36,
   "id": "c3fa98bd",
   "metadata": {},
   "outputs": [
    {
     "name": "stdout",
     "output_type": "stream",
     "text": [
      "[40, 50, 10, 20, 30]\n"
     ]
    }
   ],
   "source": [
    "def rotateRight(List, k):\n",
    "    for j in range(k):\n",
    "        a = List[-1]\n",
    "        for i in range(len(List)-1, 0,-1):\n",
    "            List[i] = List[i-1]\n",
    "        List[0] = a\n",
    "    return List\n",
    "\n",
    "L1 = [10, 20, 30, 40, 50]\n",
    "L2 = rotateRight(L1, 2)\n",
    "print(L2)\n"
   ]
  },
  {
   "cell_type": "code",
   "execution_count": null,
   "id": "26ab27bd",
   "metadata": {},
   "outputs": [],
   "source": []
  }
 ],
 "metadata": {
  "kernelspec": {
   "display_name": "Python 3 (ipykernel)",
   "language": "python",
   "name": "python3"
  },
  "language_info": {
   "codemirror_mode": {
    "name": "ipython",
    "version": 3
   },
   "file_extension": ".py",
   "mimetype": "text/x-python",
   "name": "python",
   "nbconvert_exporter": "python",
   "pygments_lexer": "ipython3",
   "version": "3.11.5"
  }
 },
 "nbformat": 4,
 "nbformat_minor": 5
}
